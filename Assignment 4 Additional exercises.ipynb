{
 "cells": [
  {
   "cell_type": "markdown",
   "metadata": {},
   "source": [
    "## 1) Write a Python program which accepts a list named : randomList = ['a', 0,2]. Use exception handling using try-catch which gives the output as: \n",
    "\n",
    "                                 Output \n",
    "\n",
    "                                 1) If the List element is a alphabet or string, the output will be  \n",
    "                                    The entry is a \n",
    "                                    Oops! <class 'ValueError'> occured. \n",
    "                                    Next entry. \n",
    "\n",
    "                                 2) If the List element is “0”,the output will be \n",
    "                                    The entry is 0 \n",
    "                                    Oops! <class 'ZeroDivisionError'> occured. \n",
    "                                    Next entry. \n",
    "\n",
    "                                 3) If the List element is and integer except 0,then output will be \n",
    "                                    The entry is 2 \n",
    "                                    The reciprocal of 2 is 0.5  // reciprocal of an integer"
   ]
  },
  {
   "cell_type": "code",
   "execution_count": 1,
   "metadata": {
    "scrolled": true
   },
   "outputs": [
    {
     "name": "stdout",
     "output_type": "stream",
     "text": [
      "The entry is a\n",
      "Oops! <class 'ValueError'> occured.\n",
      "Next entry.\n",
      "\n",
      "The entry is 0\n",
      "Oops! <class 'ZeroDivisionError'> occured.\n",
      "Next entry.\n",
      "\n",
      "The entry is 2\n",
      "The reciprocal of 2 is 0.5\n"
     ]
    }
   ],
   "source": [
    "import sys                                           # Importing the sys \n",
    "randomList=['a',0,2]                                 # Declaring the input \n",
    "for item in randomList:\n",
    "    try:                                             # Declaring thr try block\n",
    "        print(\"The entry is\", item)\n",
    "        rec = 1/int(item)\n",
    "    except:\n",
    "        print(\"Oops!\",sys.exc_info()[0],\"occured.\")    #To capture the Exception \n",
    "        print(\"Next entry.\\n\")\n",
    "print(\"The reciprocal of\",item,\"is\",rec)            "
   ]
  },
  {
   "cell_type": "markdown",
   "metadata": {},
   "source": [
    "## 2) Array out of Bound Exception \n",
    "\n",
    "Write a Python program to give exception “Array Out of Bound” if the user wants to access the elements beyond the list size (use try and except)"
   ]
  },
  {
   "cell_type": "code",
   "execution_count": 2,
   "metadata": {},
   "outputs": [
    {
     "name": "stdout",
     "output_type": "stream",
     "text": [
      "List Items [1 2 3 4 5]\n",
      "Total number of items in the list 5\n",
      "Enter the index value which needs to be displayed: 9\n",
      "Exception: Array out of Bound Exception occured\n"
     ]
    }
   ],
   "source": [
    "import numpy as np\n",
    "import sys\n",
    "try:\n",
    "    inparray=np.asarray([1,2,3,4,5])                                                   # Creating the Input array\n",
    "    print(\"List Items {}\".format(inparray))                                            # Displaying the input array\n",
    "    print(\"Total number of items in the list {}\".format(len(inparray)))\n",
    "    indexval=int(input(\"Enter the index value which needs to be displayed: \"))         # Reading the index value from user\n",
    "    print(\"Item value is {}\" .format(inparray[indexval]))                              \n",
    "except:\n",
    "    print(\"Exception: Array out of Bound Exception occured\")                           # Displaying the exception message"
   ]
  },
  {
   "cell_type": "markdown",
   "metadata": {},
   "source": [
    "## 3) Write a python module script that contains fib2() method to calculate the fibonacci series till 1000 and save it as fibo.py \n",
    "\n",
    "                         Note : The module created as fibo.py has to be placed in lib \n",
    "                         folder \n",
    "\n",
    "                         For linux/ubuntu path = /home/anaconda/lib/python3 \n",
    "\n",
    "                         For Windows path = C:\\Users\\Ajit\\Anaconda3\\Lib "
   ]
  },
  {
   "cell_type": "code",
   "execution_count": 3,
   "metadata": {},
   "outputs": [],
   "source": [
    "import fibo     # importing the newly created fibo.py script file"
   ]
  },
  {
   "cell_type": "code",
   "execution_count": 4,
   "metadata": {},
   "outputs": [
    {
     "name": "stdout",
     "output_type": "stream",
     "text": [
      "fibonacci series till 1000:  [1, 1, 2, 3, 5, 8, 13, 21, 34, 55, 89, 144, 233, 377, 610, 987]\n"
     ]
    }
   ],
   "source": [
    "outputval=fibo.fib2()                                            # Calling the fib2 funciton\n",
    "print(\"fibonacci series till 1000:  {}\".format(outputval))"
   ]
  },
  {
   "cell_type": "code",
   "execution_count": 5,
   "metadata": {},
   "outputs": [
    {
     "name": "stdout",
     "output_type": "stream",
     "text": [
      "['In', 'Out', '_', '__', '___', '__builtin__', '__builtins__', '__doc__', '__loader__', '__name__', '__package__', '__spec__', '_dh', '_i', '_i1', '_i2', '_i3', '_i4', '_i5', '_ih', '_ii', '_iii', '_oh', 'exit', 'fibo', 'get_ipython', 'indexval', 'inparray', 'item', 'np', 'outputval', 'quit', 'randomList', 'rec', 'sys']\n"
     ]
    }
   ],
   "source": [
    "#module fibo is added to the path\n",
    "print(dir())"
   ]
  },
  {
   "cell_type": "markdown",
   "metadata": {},
   "source": [
    "## 4) Write a python module script that contains ispalindrome() method to calculate the input string as palindrome string or not and save it as palindrome.py "
   ]
  },
  {
   "cell_type": "code",
   "execution_count": 6,
   "metadata": {},
   "outputs": [],
   "source": [
    "import palindrome    # importing the newly created palindrome.py script file"
   ]
  },
  {
   "cell_type": "code",
   "execution_count": 7,
   "metadata": {},
   "outputs": [
    {
     "name": "stdout",
     "output_type": "stream",
     "text": [
      "It is a Palindrome\n"
     ]
    }
   ],
   "source": [
    "outputval= palindrome.isPalindrome('noon')    # Passing noon as input to check for palindrome\n",
    "print(outputval)"
   ]
  },
  {
   "cell_type": "code",
   "execution_count": 8,
   "metadata": {},
   "outputs": [
    {
     "name": "stdout",
     "output_type": "stream",
     "text": [
      "It is not a Palindrome\n"
     ]
    }
   ],
   "source": [
    "outputval= palindrome.isPalindrome('Food')   # Passing Food as input to check for palindrome\n",
    "print(outputval)"
   ]
  },
  {
   "cell_type": "code",
   "execution_count": 9,
   "metadata": {
    "scrolled": true
   },
   "outputs": [
    {
     "name": "stdout",
     "output_type": "stream",
     "text": [
      "['In', 'Out', '_', '__', '___', '__builtin__', '__builtins__', '__doc__', '__loader__', '__name__', '__package__', '__spec__', '_dh', '_i', '_i1', '_i2', '_i3', '_i4', '_i5', '_i6', '_i7', '_i8', '_i9', '_ih', '_ii', '_iii', '_oh', 'exit', 'fibo', 'get_ipython', 'indexval', 'inparray', 'item', 'np', 'outputval', 'palindrome', 'quit', 'randomList', 'rec', 'sys']\n"
     ]
    }
   ],
   "source": [
    "#module palindrome is added to the path\n",
    "print(dir())"
   ]
  },
  {
   "cell_type": "code",
   "execution_count": null,
   "metadata": {},
   "outputs": [],
   "source": []
  }
 ],
 "metadata": {
  "kernelspec": {
   "display_name": "Python 3",
   "language": "python",
   "name": "python3"
  },
  "language_info": {
   "codemirror_mode": {
    "name": "ipython",
    "version": 3
   },
   "file_extension": ".py",
   "mimetype": "text/x-python",
   "name": "python",
   "nbconvert_exporter": "python",
   "pygments_lexer": "ipython3",
   "version": "3.7.0"
  }
 },
 "nbformat": 4,
 "nbformat_minor": 2
}
